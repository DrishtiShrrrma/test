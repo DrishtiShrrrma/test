{
  "cells": [
    {
      "cell_type": "code",
      "execution_count": null,
      "id": "dc38e12b-0a1b-463f-af79-dcd9b8b724c8",
      "metadata": {
        "id": "dc38e12b-0a1b-463f-af79-dcd9b8b724c8",
        "outputId": "6e627784-d62e-48e5-f1bc-e58300ab703a"
      },
      "outputs": [
        {
          "name": "stdout",
          "output_type": "stream",
          "text": [
            "Collecting git+https://github.com/huggingface/transformers.git\n",
            "  Cloning https://github.com/huggingface/transformers.git to /tmp/pip-req-build-uc1808gz\n",
            "  Running command git clone --filter=blob:none --quiet https://github.com/huggingface/transformers.git /tmp/pip-req-build-uc1808gz\n",
            "  Resolved https://github.com/huggingface/transformers.git to commit eab6c491d439e83d5e31c660df6f7e36592eb0a2\n",
            "  Installing build dependencies ... \u001b[?25ldone\n",
            "\u001b[?25h  Getting requirements to build wheel ... \u001b[?25ldone\n",
            "\u001b[?25h  Preparing metadata (pyproject.toml) ... \u001b[?25ldone\n",
            "\u001b[?25hRequirement already satisfied: filelock in /usr/local/lib/python3.10/dist-packages (from transformers==4.47.0.dev0) (3.9.0)\n",
            "Requirement already satisfied: huggingface-hub<1.0,>=0.23.2 in /usr/local/lib/python3.10/dist-packages (from transformers==4.47.0.dev0) (0.26.2)\n",
            "Requirement already satisfied: numpy>=1.17 in /usr/local/lib/python3.10/dist-packages (from transformers==4.47.0.dev0) (1.24.1)\n",
            "Requirement already satisfied: packaging>=20.0 in /usr/local/lib/python3.10/dist-packages (from transformers==4.47.0.dev0) (23.2)\n",
            "Requirement already satisfied: pyyaml>=5.1 in /usr/local/lib/python3.10/dist-packages (from transformers==4.47.0.dev0) (6.0.1)\n",
            "Requirement already satisfied: regex!=2019.12.17 in /usr/local/lib/python3.10/dist-packages (from transformers==4.47.0.dev0) (2024.9.11)\n",
            "Requirement already satisfied: requests in /usr/local/lib/python3.10/dist-packages (from transformers==4.47.0.dev0) (2.32.3)\n",
            "Requirement already satisfied: tokenizers<0.21,>=0.20 in /usr/local/lib/python3.10/dist-packages (from transformers==4.47.0.dev0) (0.20.1)\n",
            "Requirement already satisfied: safetensors>=0.4.1 in /usr/local/lib/python3.10/dist-packages (from transformers==4.47.0.dev0) (0.4.5)\n",
            "Requirement already satisfied: tqdm>=4.27 in /usr/local/lib/python3.10/dist-packages (from transformers==4.47.0.dev0) (4.66.6)\n",
            "Requirement already satisfied: fsspec>=2023.5.0 in /usr/local/lib/python3.10/dist-packages (from huggingface-hub<1.0,>=0.23.2->transformers==4.47.0.dev0) (2024.9.0)\n",
            "Requirement already satisfied: typing-extensions>=3.7.4.3 in /usr/local/lib/python3.10/dist-packages (from huggingface-hub<1.0,>=0.23.2->transformers==4.47.0.dev0) (4.4.0)\n",
            "Requirement already satisfied: charset-normalizer<4,>=2 in /usr/local/lib/python3.10/dist-packages (from requests->transformers==4.47.0.dev0) (2.1.1)\n",
            "Requirement already satisfied: idna<4,>=2.5 in /usr/local/lib/python3.10/dist-packages (from requests->transformers==4.47.0.dev0) (3.4)\n",
            "Requirement already satisfied: urllib3<3,>=1.21.1 in /usr/local/lib/python3.10/dist-packages (from requests->transformers==4.47.0.dev0) (1.26.13)\n",
            "Requirement already satisfied: certifi>=2017.4.17 in /usr/local/lib/python3.10/dist-packages (from requests->transformers==4.47.0.dev0) (2022.12.7)\n",
            "\u001b[33mWARNING: Running pip as the 'root' user can result in broken permissions and conflicting behaviour with the system package manager. It is recommended to use a virtual environment instead: https://pip.pypa.io/warnings/venv\u001b[0m\u001b[33m\n",
            "\u001b[0m\n",
            "\u001b[1m[\u001b[0m\u001b[34;49mnotice\u001b[0m\u001b[1;39;49m]\u001b[0m\u001b[39;49m A new release of pip is available: \u001b[0m\u001b[31;49m23.3.1\u001b[0m\u001b[39;49m -> \u001b[0m\u001b[32;49m24.3.1\u001b[0m\n",
            "\u001b[1m[\u001b[0m\u001b[34;49mnotice\u001b[0m\u001b[1;39;49m]\u001b[0m\u001b[39;49m To update, run: \u001b[0m\u001b[32;49mpython -m pip install --upgrade pip\u001b[0m\n",
            "Collecting git+https://github.com/huggingface/peft.git\n",
            "  Cloning https://github.com/huggingface/peft.git to /tmp/pip-req-build-hdcyyb73\n",
            "  Running command git clone --filter=blob:none --quiet https://github.com/huggingface/peft.git /tmp/pip-req-build-hdcyyb73\n",
            "  Resolved https://github.com/huggingface/peft.git to commit 8eeae0a63f28a80ef42b6bfc977c34ffc0b650ff\n",
            "  Installing build dependencies ... \u001b[?25ldone\n",
            "\u001b[?25h  Getting requirements to build wheel ... \u001b[?25ldone\n",
            "\u001b[?25h  Preparing metadata (pyproject.toml) ... \u001b[?25ldone\n",
            "\u001b[?25hRequirement already satisfied: numpy>=1.17 in /usr/local/lib/python3.10/dist-packages (from peft==0.13.3.dev0) (1.24.1)\n",
            "Requirement already satisfied: packaging>=20.0 in /usr/local/lib/python3.10/dist-packages (from peft==0.13.3.dev0) (23.2)\n",
            "Requirement already satisfied: psutil in /usr/local/lib/python3.10/dist-packages (from peft==0.13.3.dev0) (5.9.6)\n",
            "Requirement already satisfied: pyyaml in /usr/local/lib/python3.10/dist-packages (from peft==0.13.3.dev0) (6.0.1)\n",
            "Requirement already satisfied: torch>=1.13.0 in /usr/local/lib/python3.10/dist-packages (from peft==0.13.3.dev0) (2.1.0+cu118)\n",
            "Requirement already satisfied: transformers in /usr/local/lib/python3.10/dist-packages (from peft==0.13.3.dev0) (4.47.0.dev0)\n",
            "Requirement already satisfied: tqdm in /usr/local/lib/python3.10/dist-packages (from peft==0.13.3.dev0) (4.66.6)\n",
            "Requirement already satisfied: accelerate>=0.21.0 in /usr/local/lib/python3.10/dist-packages (from peft==0.13.3.dev0) (1.0.1)\n",
            "Requirement already satisfied: safetensors in /usr/local/lib/python3.10/dist-packages (from peft==0.13.3.dev0) (0.4.5)\n",
            "Requirement already satisfied: huggingface-hub>=0.25.0 in /usr/local/lib/python3.10/dist-packages (from peft==0.13.3.dev0) (0.26.2)\n",
            "Requirement already satisfied: filelock in /usr/local/lib/python3.10/dist-packages (from huggingface-hub>=0.25.0->peft==0.13.3.dev0) (3.9.0)\n",
            "Requirement already satisfied: fsspec>=2023.5.0 in /usr/local/lib/python3.10/dist-packages (from huggingface-hub>=0.25.0->peft==0.13.3.dev0) (2024.9.0)\n",
            "Requirement already satisfied: requests in /usr/local/lib/python3.10/dist-packages (from huggingface-hub>=0.25.0->peft==0.13.3.dev0) (2.32.3)\n",
            "Requirement already satisfied: typing-extensions>=3.7.4.3 in /usr/local/lib/python3.10/dist-packages (from huggingface-hub>=0.25.0->peft==0.13.3.dev0) (4.4.0)\n",
            "Requirement already satisfied: sympy in /usr/local/lib/python3.10/dist-packages (from torch>=1.13.0->peft==0.13.3.dev0) (1.12)\n",
            "Requirement already satisfied: networkx in /usr/local/lib/python3.10/dist-packages (from torch>=1.13.0->peft==0.13.3.dev0) (3.0)\n",
            "Requirement already satisfied: jinja2 in /usr/local/lib/python3.10/dist-packages (from torch>=1.13.0->peft==0.13.3.dev0) (3.1.2)\n",
            "Requirement already satisfied: triton==2.1.0 in /usr/local/lib/python3.10/dist-packages (from torch>=1.13.0->peft==0.13.3.dev0) (2.1.0)\n",
            "Requirement already satisfied: regex!=2019.12.17 in /usr/local/lib/python3.10/dist-packages (from transformers->peft==0.13.3.dev0) (2024.9.11)\n",
            "Requirement already satisfied: tokenizers<0.21,>=0.20 in /usr/local/lib/python3.10/dist-packages (from transformers->peft==0.13.3.dev0) (0.20.1)\n",
            "Requirement already satisfied: MarkupSafe>=2.0 in /usr/local/lib/python3.10/dist-packages (from jinja2->torch>=1.13.0->peft==0.13.3.dev0) (2.1.2)\n",
            "Requirement already satisfied: charset-normalizer<4,>=2 in /usr/local/lib/python3.10/dist-packages (from requests->huggingface-hub>=0.25.0->peft==0.13.3.dev0) (2.1.1)\n",
            "Requirement already satisfied: idna<4,>=2.5 in /usr/local/lib/python3.10/dist-packages (from requests->huggingface-hub>=0.25.0->peft==0.13.3.dev0) (3.4)\n",
            "Requirement already satisfied: urllib3<3,>=1.21.1 in /usr/local/lib/python3.10/dist-packages (from requests->huggingface-hub>=0.25.0->peft==0.13.3.dev0) (1.26.13)\n",
            "Requirement already satisfied: certifi>=2017.4.17 in /usr/local/lib/python3.10/dist-packages (from requests->huggingface-hub>=0.25.0->peft==0.13.3.dev0) (2022.12.7)\n",
            "Requirement already satisfied: mpmath>=0.19 in /usr/local/lib/python3.10/dist-packages (from sympy->torch>=1.13.0->peft==0.13.3.dev0) (1.3.0)\n",
            "\u001b[33mWARNING: Running pip as the 'root' user can result in broken permissions and conflicting behaviour with the system package manager. It is recommended to use a virtual environment instead: https://pip.pypa.io/warnings/venv\u001b[0m\u001b[33m\n",
            "\u001b[0m\n",
            "\u001b[1m[\u001b[0m\u001b[34;49mnotice\u001b[0m\u001b[1;39;49m]\u001b[0m\u001b[39;49m A new release of pip is available: \u001b[0m\u001b[31;49m23.3.1\u001b[0m\u001b[39;49m -> \u001b[0m\u001b[32;49m24.3.1\u001b[0m\n",
            "\u001b[1m[\u001b[0m\u001b[34;49mnotice\u001b[0m\u001b[1;39;49m]\u001b[0m\u001b[39;49m To update, run: \u001b[0m\u001b[32;49mpython -m pip install --upgrade pip\u001b[0m\n",
            "Collecting git+https://github.com/huggingface/datasets.git\n",
            "  Cloning https://github.com/huggingface/datasets.git to /tmp/pip-req-build-b59g4e56\n",
            "  Running command git clone --filter=blob:none --quiet https://github.com/huggingface/datasets.git /tmp/pip-req-build-b59g4e56\n",
            "  Resolved https://github.com/huggingface/datasets.git to commit f8e332104dd4827da559a39d06d7849b9ed3f77d\n",
            "  Installing build dependencies ... \u001b[?25ldone\n",
            "\u001b[?25h  Getting requirements to build wheel ... \u001b[?25ldone\n",
            "\u001b[?25h  Preparing metadata (pyproject.toml) ... \u001b[?25ldone\n",
            "\u001b[?25hRequirement already satisfied: filelock in /usr/local/lib/python3.10/dist-packages (from datasets==3.0.3.dev0) (3.9.0)\n",
            "Requirement already satisfied: numpy>=1.17 in /usr/local/lib/python3.10/dist-packages (from datasets==3.0.3.dev0) (1.24.1)\n",
            "Requirement already satisfied: pyarrow>=15.0.0 in /usr/local/lib/python3.10/dist-packages (from datasets==3.0.3.dev0) (18.0.0)\n",
            "Requirement already satisfied: dill<0.3.9,>=0.3.0 in /usr/local/lib/python3.10/dist-packages (from datasets==3.0.3.dev0) (0.3.8)\n",
            "Requirement already satisfied: pandas in /usr/local/lib/python3.10/dist-packages (from datasets==3.0.3.dev0) (2.2.3)\n",
            "Requirement already satisfied: requests>=2.32.2 in /usr/local/lib/python3.10/dist-packages (from datasets==3.0.3.dev0) (2.32.3)\n",
            "Requirement already satisfied: tqdm>=4.66.3 in /usr/local/lib/python3.10/dist-packages (from datasets==3.0.3.dev0) (4.66.6)\n",
            "Requirement already satisfied: xxhash in /usr/local/lib/python3.10/dist-packages (from datasets==3.0.3.dev0) (3.5.0)\n",
            "Requirement already satisfied: multiprocess<0.70.17 in /usr/local/lib/python3.10/dist-packages (from datasets==3.0.3.dev0) (0.70.16)\n",
            "Requirement already satisfied: fsspec<=2024.9.0,>=2023.1.0 in /usr/local/lib/python3.10/dist-packages (from fsspec[http]<=2024.9.0,>=2023.1.0->datasets==3.0.3.dev0) (2024.9.0)\n",
            "Requirement already satisfied: aiohttp in /usr/local/lib/python3.10/dist-packages (from datasets==3.0.3.dev0) (3.10.10)\n",
            "Requirement already satisfied: huggingface-hub>=0.23.0 in /usr/local/lib/python3.10/dist-packages (from datasets==3.0.3.dev0) (0.26.2)\n",
            "Requirement already satisfied: packaging in /usr/local/lib/python3.10/dist-packages (from datasets==3.0.3.dev0) (23.2)\n",
            "Requirement already satisfied: pyyaml>=5.1 in /usr/local/lib/python3.10/dist-packages (from datasets==3.0.3.dev0) (6.0.1)\n",
            "Requirement already satisfied: aiohappyeyeballs>=2.3.0 in /usr/local/lib/python3.10/dist-packages (from aiohttp->datasets==3.0.3.dev0) (2.4.3)\n",
            "Requirement already satisfied: aiosignal>=1.1.2 in /usr/local/lib/python3.10/dist-packages (from aiohttp->datasets==3.0.3.dev0) (1.3.1)\n",
            "Requirement already satisfied: attrs>=17.3.0 in /usr/local/lib/python3.10/dist-packages (from aiohttp->datasets==3.0.3.dev0) (23.1.0)\n",
            "Requirement already satisfied: frozenlist>=1.1.1 in /usr/local/lib/python3.10/dist-packages (from aiohttp->datasets==3.0.3.dev0) (1.5.0)\n",
            "Requirement already satisfied: multidict<7.0,>=4.5 in /usr/local/lib/python3.10/dist-packages (from aiohttp->datasets==3.0.3.dev0) (6.1.0)\n",
            "Requirement already satisfied: yarl<2.0,>=1.12.0 in /usr/local/lib/python3.10/dist-packages (from aiohttp->datasets==3.0.3.dev0) (1.17.0)\n",
            "Requirement already satisfied: async-timeout<5.0,>=4.0 in /usr/local/lib/python3.10/dist-packages (from aiohttp->datasets==3.0.3.dev0) (4.0.3)\n",
            "Requirement already satisfied: typing-extensions>=3.7.4.3 in /usr/local/lib/python3.10/dist-packages (from huggingface-hub>=0.23.0->datasets==3.0.3.dev0) (4.4.0)\n",
            "Requirement already satisfied: charset-normalizer<4,>=2 in /usr/local/lib/python3.10/dist-packages (from requests>=2.32.2->datasets==3.0.3.dev0) (2.1.1)\n",
            "Requirement already satisfied: idna<4,>=2.5 in /usr/local/lib/python3.10/dist-packages (from requests>=2.32.2->datasets==3.0.3.dev0) (3.4)\n",
            "Requirement already satisfied: urllib3<3,>=1.21.1 in /usr/local/lib/python3.10/dist-packages (from requests>=2.32.2->datasets==3.0.3.dev0) (1.26.13)\n",
            "Requirement already satisfied: certifi>=2017.4.17 in /usr/local/lib/python3.10/dist-packages (from requests>=2.32.2->datasets==3.0.3.dev0) (2022.12.7)\n",
            "Requirement already satisfied: python-dateutil>=2.8.2 in /usr/local/lib/python3.10/dist-packages (from pandas->datasets==3.0.3.dev0) (2.8.2)\n",
            "Requirement already satisfied: pytz>=2020.1 in /usr/local/lib/python3.10/dist-packages (from pandas->datasets==3.0.3.dev0) (2024.2)\n",
            "Requirement already satisfied: tzdata>=2022.7 in /usr/local/lib/python3.10/dist-packages (from pandas->datasets==3.0.3.dev0) (2024.2)\n",
            "Requirement already satisfied: six>=1.5 in /usr/lib/python3/dist-packages (from python-dateutil>=2.8.2->pandas->datasets==3.0.3.dev0) (1.16.0)\n",
            "Requirement already satisfied: propcache>=0.2.0 in /usr/local/lib/python3.10/dist-packages (from yarl<2.0,>=1.12.0->aiohttp->datasets==3.0.3.dev0) (0.2.0)\n",
            "\u001b[33mWARNING: Running pip as the 'root' user can result in broken permissions and conflicting behaviour with the system package manager. It is recommended to use a virtual environment instead: https://pip.pypa.io/warnings/venv\u001b[0m\u001b[33m\n",
            "\u001b[0m\n",
            "\u001b[1m[\u001b[0m\u001b[34;49mnotice\u001b[0m\u001b[1;39;49m]\u001b[0m\u001b[39;49m A new release of pip is available: \u001b[0m\u001b[31;49m23.3.1\u001b[0m\u001b[39;49m -> \u001b[0m\u001b[32;49m24.3.1\u001b[0m\n",
            "\u001b[1m[\u001b[0m\u001b[34;49mnotice\u001b[0m\u001b[1;39;49m]\u001b[0m\u001b[39;49m To update, run: \u001b[0m\u001b[32;49mpython -m pip install --upgrade pip\u001b[0m\n"
          ]
        }
      ],
      "source": [
        "!pip install git+https://github.com/huggingface/transformers.git\n",
        "!pip install git+https://github.com/huggingface/peft.git\n",
        "!pip install git+https://github.com/huggingface/datasets.git\n"
      ]
    },
    {
      "cell_type": "code",
      "execution_count": null,
      "id": "9fb7db3b-6c65-4513-a476-ff1b67c4c967",
      "metadata": {
        "id": "9fb7db3b-6c65-4513-a476-ff1b67c4c967",
        "outputId": "405db66c-caf0-4799-bf8b-99254b772f21"
      },
      "outputs": [
        {
          "name": "stdout",
          "output_type": "stream",
          "text": [
            "Requirement already satisfied: torch in /usr/local/lib/python3.10/dist-packages (2.1.0+cu118)\n",
            "Requirement already satisfied: tqdm in /usr/local/lib/python3.10/dist-packages (4.66.6)\n",
            "Requirement already satisfied: filelock in /usr/local/lib/python3.10/dist-packages (from torch) (3.9.0)\n",
            "Requirement already satisfied: typing-extensions in /usr/local/lib/python3.10/dist-packages (from torch) (4.4.0)\n",
            "Requirement already satisfied: sympy in /usr/local/lib/python3.10/dist-packages (from torch) (1.12)\n",
            "Requirement already satisfied: networkx in /usr/local/lib/python3.10/dist-packages (from torch) (3.0)\n",
            "Requirement already satisfied: jinja2 in /usr/local/lib/python3.10/dist-packages (from torch) (3.1.2)\n",
            "Requirement already satisfied: fsspec in /usr/local/lib/python3.10/dist-packages (from torch) (2024.9.0)\n",
            "Requirement already satisfied: triton==2.1.0 in /usr/local/lib/python3.10/dist-packages (from torch) (2.1.0)\n",
            "Requirement already satisfied: MarkupSafe>=2.0 in /usr/local/lib/python3.10/dist-packages (from jinja2->torch) (2.1.2)\n",
            "Requirement already satisfied: mpmath>=0.19 in /usr/local/lib/python3.10/dist-packages (from sympy->torch) (1.3.0)\n",
            "\u001b[33mWARNING: Running pip as the 'root' user can result in broken permissions and conflicting behaviour with the system package manager. It is recommended to use a virtual environment instead: https://pip.pypa.io/warnings/venv\u001b[0m\u001b[33m\n",
            "\u001b[0m\n",
            "\u001b[1m[\u001b[0m\u001b[34;49mnotice\u001b[0m\u001b[1;39;49m]\u001b[0m\u001b[39;49m A new release of pip is available: \u001b[0m\u001b[31;49m23.3.1\u001b[0m\u001b[39;49m -> \u001b[0m\u001b[32;49m24.3.1\u001b[0m\n",
            "\u001b[1m[\u001b[0m\u001b[34;49mnotice\u001b[0m\u001b[1;39;49m]\u001b[0m\u001b[39;49m To update, run: \u001b[0m\u001b[32;49mpython -m pip install --upgrade pip\u001b[0m\n"
          ]
        }
      ],
      "source": [
        "!pip install torch tqdm"
      ]
    },
    {
      "cell_type": "code",
      "execution_count": null,
      "id": "e3fe1179-2b18-44d2-8a89-030382feeb79",
      "metadata": {
        "id": "e3fe1179-2b18-44d2-8a89-030382feeb79"
      },
      "outputs": [],
      "source": [
        "from transformers import AutoTokenizer, AutoModelForCausalLM\n",
        "from peft import PeftModel\n",
        "import torch"
      ]
    },
    {
      "cell_type": "code",
      "execution_count": null,
      "id": "b882d205-6f2b-4e92-ae82-8e956da15104",
      "metadata": {
        "id": "b882d205-6f2b-4e92-ae82-8e956da15104",
        "outputId": "24edd37f-7c44-429b-8a0e-5fb466b38d0e"
      },
      "outputs": [
        {
          "name": "stdout",
          "output_type": "stream",
          "text": [
            "Requirement already satisfied: bitsandbytes in /usr/local/lib/python3.10/dist-packages (0.44.1)\n",
            "Requirement already satisfied: torch in /usr/local/lib/python3.10/dist-packages (from bitsandbytes) (2.1.0+cu118)\n",
            "Requirement already satisfied: numpy in /usr/local/lib/python3.10/dist-packages (from bitsandbytes) (1.24.1)\n",
            "Requirement already satisfied: filelock in /usr/local/lib/python3.10/dist-packages (from torch->bitsandbytes) (3.9.0)\n",
            "Requirement already satisfied: typing-extensions in /usr/local/lib/python3.10/dist-packages (from torch->bitsandbytes) (4.4.0)\n",
            "Requirement already satisfied: sympy in /usr/local/lib/python3.10/dist-packages (from torch->bitsandbytes) (1.12)\n",
            "Requirement already satisfied: networkx in /usr/local/lib/python3.10/dist-packages (from torch->bitsandbytes) (3.0)\n",
            "Requirement already satisfied: jinja2 in /usr/local/lib/python3.10/dist-packages (from torch->bitsandbytes) (3.1.2)\n",
            "Requirement already satisfied: fsspec in /usr/local/lib/python3.10/dist-packages (from torch->bitsandbytes) (2024.9.0)\n",
            "Requirement already satisfied: triton==2.1.0 in /usr/local/lib/python3.10/dist-packages (from torch->bitsandbytes) (2.1.0)\n",
            "Requirement already satisfied: MarkupSafe>=2.0 in /usr/local/lib/python3.10/dist-packages (from jinja2->torch->bitsandbytes) (2.1.2)\n",
            "Requirement already satisfied: mpmath>=0.19 in /usr/local/lib/python3.10/dist-packages (from sympy->torch->bitsandbytes) (1.3.0)\n",
            "\u001b[33mWARNING: Running pip as the 'root' user can result in broken permissions and conflicting behaviour with the system package manager. It is recommended to use a virtual environment instead: https://pip.pypa.io/warnings/venv\u001b[0m\u001b[33m\n",
            "\u001b[0m\n",
            "\u001b[1m[\u001b[0m\u001b[34;49mnotice\u001b[0m\u001b[1;39;49m]\u001b[0m\u001b[39;49m A new release of pip is available: \u001b[0m\u001b[31;49m23.3.1\u001b[0m\u001b[39;49m -> \u001b[0m\u001b[32;49m24.3.1\u001b[0m\n",
            "\u001b[1m[\u001b[0m\u001b[34;49mnotice\u001b[0m\u001b[1;39;49m]\u001b[0m\u001b[39;49m To update, run: \u001b[0m\u001b[32;49mpython -m pip install --upgrade pip\u001b[0m\n"
          ]
        }
      ],
      "source": [
        "!pip install -U bitsandbytes"
      ]
    },
    {
      "cell_type": "code",
      "execution_count": null,
      "id": "9ac618c4-7b00-4590-a4af-7b28eedabe26",
      "metadata": {
        "colab": {
          "referenced_widgets": [
            "af6cbb87affd40b396b8d5e91c767cef",
            "23a3ad2403e549ecaf3ac43718e0aa7e",
            "283d496bde6f40a59788c787ece77325",
            "4909f21d7a3c4d199628378ad54a9fcf"
          ]
        },
        "id": "9ac618c4-7b00-4590-a4af-7b28eedabe26",
        "outputId": "04f2e60a-9a9e-4537-c526-1ed70f8db3b8"
      },
      "outputs": [
        {
          "name": "stderr",
          "output_type": "stream",
          "text": [
            "Unused kwargs: ['_load_in_4bit', '_load_in_8bit', 'quant_method']. These kwargs are not used in <class 'transformers.utils.quantization_config.BitsAndBytesConfig'>.\n"
          ]
        },
        {
          "data": {
            "application/vnd.jupyter.widget-view+json": {
              "model_id": "af6cbb87affd40b396b8d5e91c767cef",
              "version_major": 2,
              "version_minor": 0
            },
            "text/plain": [
              "model.safetensors:   0%|          | 0.00/6.13G [00:00<?, ?B/s]"
            ]
          },
          "metadata": {},
          "output_type": "display_data"
        },
        {
          "data": {
            "application/vnd.jupyter.widget-view+json": {
              "model_id": "23a3ad2403e549ecaf3ac43718e0aa7e",
              "version_major": 2,
              "version_minor": 0
            },
            "text/plain": [
              "generation_config.json:   0%|          | 0.00/190 [00:00<?, ?B/s]"
            ]
          },
          "metadata": {},
          "output_type": "display_data"
        },
        {
          "data": {
            "application/vnd.jupyter.widget-view+json": {
              "model_id": "283d496bde6f40a59788c787ece77325",
              "version_major": 2,
              "version_minor": 0
            },
            "text/plain": [
              "adapter_config.json:   0%|          | 0.00/727 [00:00<?, ?B/s]"
            ]
          },
          "metadata": {},
          "output_type": "display_data"
        },
        {
          "data": {
            "application/vnd.jupyter.widget-view+json": {
              "model_id": "4909f21d7a3c4d199628378ad54a9fcf",
              "version_major": 2,
              "version_minor": 0
            },
            "text/plain": [
              "adapter_model.safetensors:   0%|          | 0.00/216M [00:00<?, ?B/s]"
            ]
          },
          "metadata": {},
          "output_type": "display_data"
        }
      ],
      "source": [
        "# 1. Load the base LLaMA model and tokenizer\n",
        "model_name = \"unsloth/gemma-2-9b-bnb-4bit\"  # Replace with your model path\n",
        "tokenizer = AutoTokenizer.from_pretrained(model_name)\n",
        "\n",
        "# Ensure the adapter is loaded correctly\n",
        "adapter_name = \"DrishtiSharma/gemma-2-9b-FMD-001\"  # Replace with your adapter's name\n",
        "base_model = AutoModelForCausalLM.from_pretrained(model_name, device_map=\"auto\")\n",
        "model = PeftModel.from_pretrained(base_model, adapter_name)"
      ]
    },
    {
      "cell_type": "code",
      "execution_count": null,
      "id": "7785cb09-1ebf-4515-91ae-0a6c699e5fdc",
      "metadata": {
        "id": "7785cb09-1ebf-4515-91ae-0a6c699e5fdc"
      },
      "outputs": [],
      "source": [
        "from datasets import Dataset\n"
      ]
    },
    {
      "cell_type": "code",
      "execution_count": null,
      "id": "93d2cd24-034a-4ffd-ae11-afb7b54bdc38",
      "metadata": {
        "id": "93d2cd24-034a-4ffd-ae11-afb7b54bdc38"
      },
      "outputs": [],
      "source": [
        "import pandas as pd"
      ]
    },
    {
      "cell_type": "code",
      "execution_count": null,
      "id": "a4fa9e24-5196-432b-86eb-2db681a15b33",
      "metadata": {
        "id": "a4fa9e24-5196-432b-86eb-2db681a15b33",
        "outputId": "2ee4131c-d23b-4aed-93e4-b717f82d8074"
      },
      "outputs": [
        {
          "name": "stdout",
          "output_type": "stream",
          "text": [
            "1500\n",
            "453\n"
          ]
        }
      ],
      "source": [
        "import pandas as pd\n",
        "splits = {'Train': 'FINNLP-train.csv', 'Dev': 'FINNLP-dev.csv'}\n",
        "df_train = pd.read_csv(\"hf://datasets/1-800-SHARED-TASKS/COLING-2025-FINNLP-FMD/\" + splits[\"Train\"])\n",
        "df_dev   = pd.read_csv(\"hf://datasets/1-800-SHARED-TASKS/COLING-2025-FINNLP-FMD/\" + splits[\"Dev\"])\n",
        "print(len(df_train))\n",
        "print(len(df_dev))"
      ]
    },
    {
      "cell_type": "code",
      "execution_count": null,
      "id": "0a1dad64-7632-455e-8495-a9e29ce0634f",
      "metadata": {
        "id": "0a1dad64-7632-455e-8495-a9e29ce0634f"
      },
      "outputs": [],
      "source": [
        "import random\n",
        "label_mapping = {\"True\": \"True\", \"NEI\": \"Neutral\", \"False\": \"False\"}\n",
        "df_train['label'] = df_train['label'].map(label_mapping)\n",
        "df_dev['label'] = df_dev['label'].map(label_mapping)"
      ]
    },
    {
      "cell_type": "code",
      "execution_count": null,
      "id": "8e3d4b69-5c46-437f-8c73-25dff766c8af",
      "metadata": {
        "id": "8e3d4b69-5c46-437f-8c73-25dff766c8af"
      },
      "outputs": [],
      "source": [
        "from datasets import Dataset\n",
        "train_dataset    = Dataset.from_pandas(df_train)\n",
        "dev_dataset      = Dataset.from_pandas(df_dev)"
      ]
    },
    {
      "cell_type": "code",
      "execution_count": null,
      "id": "019aa71b-d252-4d80-bd26-b7d8b474846b",
      "metadata": {
        "id": "019aa71b-d252-4d80-bd26-b7d8b474846b",
        "outputId": "e2c513bb-44c1-4b2b-ad42-016d105bc90d"
      },
      "outputs": [
        {
          "name": "stdout",
          "output_type": "stream",
          "text": [
            "Requirement already satisfied: tqdm in /usr/local/lib/python3.10/dist-packages (4.66.6)\n",
            "\u001b[33mWARNING: Running pip as the 'root' user can result in broken permissions and conflicting behaviour with the system package manager. It is recommended to use a virtual environment instead: https://pip.pypa.io/warnings/venv\u001b[0m\u001b[33m\n",
            "\u001b[0m\n",
            "\u001b[1m[\u001b[0m\u001b[34;49mnotice\u001b[0m\u001b[1;39;49m]\u001b[0m\u001b[39;49m A new release of pip is available: \u001b[0m\u001b[31;49m23.3.1\u001b[0m\u001b[39;49m -> \u001b[0m\u001b[32;49m24.3.1\u001b[0m\n",
            "\u001b[1m[\u001b[0m\u001b[34;49mnotice\u001b[0m\u001b[1;39;49m]\u001b[0m\u001b[39;49m To update, run: \u001b[0m\u001b[32;49mpython -m pip install --upgrade pip\u001b[0m\n"
          ]
        }
      ],
      "source": [
        "!pip install tqdm\n",
        "from tqdm.auto import tqdm"
      ]
    },
    {
      "cell_type": "code",
      "execution_count": null,
      "id": "1ad2024b-fad0-4eb0-a1ac-2e210ec919c3",
      "metadata": {
        "id": "1ad2024b-fad0-4eb0-a1ac-2e210ec919c3"
      },
      "outputs": [],
      "source": [
        "import pandas as pd\n",
        "val_df = pd.DataFrame(dev_dataset)"
      ]
    },
    {
      "cell_type": "code",
      "execution_count": null,
      "id": "3cd528e0-8b80-4f1f-88f9-a6dcf866046a",
      "metadata": {
        "id": "3cd528e0-8b80-4f1f-88f9-a6dcf866046a",
        "outputId": "6915b8ac-dd79-49f7-b1b8-d9433bf64739"
      },
      "outputs": [
        {
          "name": "stdout",
          "output_type": "stream",
          "text": [
            "<class 'pandas.core.frame.DataFrame'>\n",
            "RangeIndex: 453 entries, 0 to 452\n",
            "Data columns (total 6 columns):\n",
            " #   Column         Non-Null Count  Dtype \n",
            "---  ------         --------------  ----- \n",
            " 0   claim          453 non-null    object\n",
            " 1   sci_digest     453 non-null    object\n",
            " 2   justification  453 non-null    object\n",
            " 3   issues         453 non-null    object\n",
            " 4   label          453 non-null    object\n",
            " 5   evidence       453 non-null    object\n",
            "dtypes: object(6)\n",
            "memory usage: 21.4+ KB\n"
          ]
        }
      ],
      "source": [
        "val_df.info()\n"
      ]
    },
    {
      "cell_type": "code",
      "execution_count": null,
      "id": "ff640c18-f994-4e99-8870-42de6cad5924",
      "metadata": {
        "id": "ff640c18-f994-4e99-8870-42de6cad5924"
      },
      "outputs": [],
      "source": [
        "prompt_template = \"\"\"\n",
        "### Instruction:\n",
        "Your task is to classify the given claim accurately by assigning the most appropriate label, using the justification provided. Follow these steps to determine the most suitable label:\n",
        "\n",
        "1. Carefully analyze both the claim and the justification provided.\n",
        "2. Select the most appropriate label from the following options that best represents the claim's accuracy:\n",
        "   - True: The claim is factually correct based on the information in the justification.\n",
        "   - Neutral: The justification does not provide enough information to verify or deny the claim.\n",
        "   - False: The claim is factually incorrect according to the justification.\n",
        "\n",
        "After selecting the most appropriate label, provide a concise and clear explanation to justify your label choice, ensuring it aligns directly with the information presented in the justification.\n",
        "\n",
        "### Important Notes:\n",
        "- Make sure your label reflects the claim’s accuracy as determined by the justification.\n",
        "- The explanation should be specific, directly addressing the reasoning behind your label choice.\n",
        "\n",
        "### Claim:\n",
        "{claim}\n",
        "\n",
        "### Justification:\n",
        "{justification}\n",
        "\n",
        "### Response:\n",
        "\"\"\""
      ]
    },
    {
      "cell_type": "code",
      "execution_count": null,
      "id": "a3042c4e-8963-40fa-b137-e18de9a9a9b3",
      "metadata": {
        "id": "a3042c4e-8963-40fa-b137-e18de9a9a9b3"
      },
      "outputs": [],
      "source": [
        "EOS_TOKEN = tokenizer.eos_token\n"
      ]
    },
    {
      "cell_type": "code",
      "execution_count": null,
      "id": "ac487642-aa6c-4a95-87e3-d3102808a436",
      "metadata": {
        "id": "ac487642-aa6c-4a95-87e3-d3102808a436"
      },
      "outputs": [],
      "source": [
        "trail_df = val_df[:1]"
      ]
    },
    {
      "cell_type": "code",
      "execution_count": null,
      "id": "7a515485-fcd6-4591-bec4-e8e1fe7528ba",
      "metadata": {
        "colab": {
          "referenced_widgets": [
            "9642caa95b01476d8a637df6dd45d964"
          ]
        },
        "id": "7a515485-fcd6-4591-bec4-e8e1fe7528ba",
        "outputId": "a50dff82-5617-4314-c242-a9ab3cb5c328"
      },
      "outputs": [
        {
          "data": {
            "application/vnd.jupyter.widget-view+json": {
              "model_id": "9642caa95b01476d8a637df6dd45d964",
              "version_major": 2,
              "version_minor": 0
            },
            "text/plain": [
              "Making Predictions:   0%|          | 0/1 [00:00<?, ?it/s]"
            ]
          },
          "metadata": {},
          "output_type": "display_data"
        },
        {
          "name": "stdout",
          "output_type": "stream",
          "text": [
            "Response 1: The claim is False.\n"
          ]
        }
      ],
      "source": [
        "for index, row in tqdm(trail_df.iterrows(), total=trail_df.shape[0], desc=\"Making Predictions\"):\n",
        "  inputs = tokenizer([prompt_template.format(claim=row['claim'],justification=row['justification'])],return_tensors=\"pt\").to(\"cuda\")\n",
        "  outputs = model.generate(**inputs, max_new_tokens=64, num_return_sequences=1, do_sample=False, eos_token_id=tokenizer.eos_token_id, pad_token_id=tokenizer.pad_token_id,)\n",
        "  decoded_output = tokenizer.decode(outputs[0], skip_special_tokens=True)\n",
        "  response_1 = \"\"\n",
        "  if \"### Response:\" in decoded_output:\n",
        "    start_index = decoded_output.index(\"### Response:\") + len(\"### Response:\")\n",
        "    end_index = decoded_output.find(\"###\", start_index)\n",
        "    if end_index != -1:\n",
        "      response_1 = decoded_output[start_index:end_index].strip()\n",
        "    else:\n",
        "      response_1 = decoded_output[start_index:].strip()\n",
        "  print(f\"Response 1: {response_1}\")\n",
        ""
      ]
    },
    {
      "cell_type": "code",
      "execution_count": null,
      "id": "423b02a5-bb6d-46eb-b2b6-24d495a451c3",
      "metadata": {
        "colab": {
          "referenced_widgets": [
            "9d36cfad4f10441a8e57d3438c0a7c31"
          ]
        },
        "id": "423b02a5-bb6d-46eb-b2b6-24d495a451c3",
        "outputId": "c3ea0f8e-a39e-4dbf-c8f6-0b60fe4f5638"
      },
      "outputs": [
        {
          "data": {
            "application/vnd.jupyter.widget-view+json": {
              "model_id": "9d36cfad4f10441a8e57d3438c0a7c31",
              "version_major": 2,
              "version_minor": 0
            },
            "text/plain": [
              "Making Predictions:   0%|          | 0/453 [00:00<?, ?it/s]"
            ]
          },
          "metadata": {},
          "output_type": "display_data"
        }
      ],
      "source": [
        "for index, row in tqdm(val_df.iterrows(), total=val_df.shape[0], desc=\"Making Predictions\"):\n",
        "  inputs = tokenizer([prompt_template.format(claim=row['claim'],justification=row['justification'])],return_tensors=\"pt\").to(\"cuda\")\n",
        "  outputs = model.generate(**inputs, max_new_tokens=10, num_return_sequences=1, do_sample=False, eos_token_id=tokenizer.eos_token_id, pad_token_id=tokenizer.pad_token_id,)\n",
        "  decoded_output = tokenizer.decode(outputs[0], skip_special_tokens=True)\n",
        "  response_1 = \"\"\n",
        "  if \"### Response:\" in decoded_output:\n",
        "    start_index = decoded_output.index(\"### Response:\") + len(\"### Response:\")\n",
        "    end_index = decoded_output.find(\"###\", start_index)\n",
        "    if end_index != -1:\n",
        "      response_1 = decoded_output[start_index:end_index].strip()\n",
        "    else:\n",
        "      response_1 = decoded_output[start_index:].strip()\n",
        "  val_df.at[index, 'pred'] = response_1"
      ]
    },
    {
      "cell_type": "code",
      "execution_count": null,
      "id": "e39e9180-259a-4fcd-b9f6-6f966ef53afd",
      "metadata": {
        "id": "e39e9180-259a-4fcd-b9f6-6f966ef53afd",
        "outputId": "586c99f4-ce2c-488c-a009-1743b2ba39f3"
      },
      "outputs": [
        {
          "data": {
            "text/html": [
              "<div>\n",
              "<style scoped>\n",
              "    .dataframe tbody tr th:only-of-type {\n",
              "        vertical-align: middle;\n",
              "    }\n",
              "\n",
              "    .dataframe tbody tr th {\n",
              "        vertical-align: top;\n",
              "    }\n",
              "\n",
              "    .dataframe thead th {\n",
              "        text-align: right;\n",
              "    }\n",
              "</style>\n",
              "<table border=\"1\" class=\"dataframe\">\n",
              "  <thead>\n",
              "    <tr style=\"text-align: right;\">\n",
              "      <th></th>\n",
              "      <th>claim</th>\n",
              "      <th>sci_digest</th>\n",
              "      <th>justification</th>\n",
              "      <th>issues</th>\n",
              "      <th>label</th>\n",
              "      <th>evidence</th>\n",
              "      <th>pred</th>\n",
              "    </tr>\n",
              "  </thead>\n",
              "  <tbody>\n",
              "    <tr>\n",
              "      <th>0</th>\n",
              "      <td>Did Tampered-With Conditioner Cause a Wisconsi...</td>\n",
              "      <td>['A mother and daughter sounded the alarm over...</td>\n",
              "      <td>In late summer 2019, multiple news accounts re...</td>\n",
              "      <td>['loss']</td>\n",
              "      <td>Neutral</td>\n",
              "      <td>On Aug. 1, the website Distractify published a...</td>\n",
              "      <td>The claim is False.</td>\n",
              "    </tr>\n",
              "    <tr>\n",
              "      <th>1</th>\n",
              "      <td>Was a Texting Driver Found Still Clutching a P...</td>\n",
              "      <td>['A photograph of a car crash scene is real, b...</td>\n",
              "      <td>An alarming photograph of a car after it was i...</td>\n",
              "      <td>['share']</td>\n",
              "      <td>False</td>\n",
              "      <td>An alarming photograph of a car after it was i...</td>\n",
              "      <td>The claim is False. The justification does not...</td>\n",
              "    </tr>\n",
              "    <tr>\n",
              "      <th>2</th>\n",
              "      <td>After shedding jobs for more than 10 years, ou...</td>\n",
              "      <td>[]</td>\n",
              "      <td>At several points in his State of the Union Ad...</td>\n",
              "      <td>['National', 'Economy', 'Jobs']</td>\n",
              "      <td>True</td>\n",
              "      <td>At several points in his State of the Union Ad...</td>\n",
              "      <td>The claim is True. The justification provides ...</td>\n",
              "    </tr>\n",
              "    <tr>\n",
              "      <th>3</th>\n",
              "      <td>State Dept. Employee Candace Claiborne Arreste...</td>\n",
              "      <td>['Department of State employee Candace Claibor...</td>\n",
              "      <td>In mid-April 2017, multiple online sources rep...</td>\n",
              "      <td>['profit']</td>\n",
              "      <td>Neutral</td>\n",
              "      <td>In mid-April 2017, multiple online sources rep...</td>\n",
              "      <td>False</td>\n",
              "    </tr>\n",
              "    <tr>\n",
              "      <th>4</th>\n",
              "      <td>Does US Rank No. 1 in Incarceration, Gas Consu...</td>\n",
              "      <td>['\"We\\'re number one\" isn\\'t always a point of...</td>\n",
              "      <td>In April 2021, users of the online forum Reddi...</td>\n",
              "      <td>['economy']</td>\n",
              "      <td>Neutral</td>\n",
              "      <td>The meme was posted to the \"/facepalm\" sub-red...</td>\n",
              "      <td>The claim is true. The United States is the</td>\n",
              "    </tr>\n",
              "    <tr>\n",
              "      <th>...</th>\n",
              "      <td>...</td>\n",
              "      <td>...</td>\n",
              "      <td>...</td>\n",
              "      <td>...</td>\n",
              "      <td>...</td>\n",
              "      <td>...</td>\n",
              "      <td>...</td>\n",
              "    </tr>\n",
              "    <tr>\n",
              "      <th>448</th>\n",
              "      <td>Betty White on 'Grow Some Balls'</td>\n",
              "      <td>[\"A popular joke about the wisdom of the sayin...</td>\n",
              "      <td>A popular meme circulating since 2011 via the ...</td>\n",
              "      <td>['credit']</td>\n",
              "      <td>False</td>\n",
              "      <td>But while the observation has much of the cade...</td>\n",
              "      <td>False</td>\n",
              "    </tr>\n",
              "    <tr>\n",
              "      <th>449</th>\n",
              "      <td>Did Donald Trump claim that the Earth is flat?</td>\n",
              "      <td>['Rumors that the President-elect believes the...</td>\n",
              "      <td>In December 2016, rumors flew about Donald Tru...</td>\n",
              "      <td>['taxes']</td>\n",
              "      <td>False</td>\n",
              "      <td>In December 2016, rumors flew about Donald Tru...</td>\n",
              "      <td>The claim is False. The justification provides...</td>\n",
              "    </tr>\n",
              "    <tr>\n",
              "      <th>450</th>\n",
              "      <td>Did Nick Saban Endorse Joe Biden?</td>\n",
              "      <td>['As far as we can tell, the University of Ala...</td>\n",
              "      <td>An image supposedly showing a meme that was po...</td>\n",
              "      <td>['insurance']</td>\n",
              "      <td>False</td>\n",
              "      <td>This image was not shared to Biden's Facebook ...</td>\n",
              "      <td>The claim is False. The image does not show</td>\n",
              "    </tr>\n",
              "    <tr>\n",
              "      <th>451</th>\n",
              "      <td>Volkswagen Passat</td>\n",
              "      <td>['High mileage Volkswagen Passat automobiles c...</td>\n",
              "      <td>Claim:  The U.S. government prohibits high mil...</td>\n",
              "      <td>['economy']</td>\n",
              "      <td>False</td>\n",
              "      <td>https://www.volkswagen.co.uk/#/new/passat-esta...</td>\n",
              "      <td></td>\n",
              "    </tr>\n",
              "    <tr>\n",
              "      <th>452</th>\n",
              "      <td>Are US Citizens Married to Immigrants Excluded...</td>\n",
              "      <td>['The answer, in part, depends on how couples ...</td>\n",
              "      <td>Snopes is still fighting an infodemic of rumor...</td>\n",
              "      <td>['economy']</td>\n",
              "      <td>Neutral</td>\n",
              "      <td>Snopes is still fighting an infodemic of rumor...</td>\n",
              "      <td>The claim is False.</td>\n",
              "    </tr>\n",
              "  </tbody>\n",
              "</table>\n",
              "<p>453 rows × 7 columns</p>\n",
              "</div>"
            ],
            "text/plain": [
              "                                                 claim  \\\n",
              "0    Did Tampered-With Conditioner Cause a Wisconsi...   \n",
              "1    Was a Texting Driver Found Still Clutching a P...   \n",
              "2    After shedding jobs for more than 10 years, ou...   \n",
              "3    State Dept. Employee Candace Claiborne Arreste...   \n",
              "4    Does US Rank No. 1 in Incarceration, Gas Consu...   \n",
              "..                                                 ...   \n",
              "448                   Betty White on 'Grow Some Balls'   \n",
              "449     Did Donald Trump claim that the Earth is flat?   \n",
              "450                  Did Nick Saban Endorse Joe Biden?   \n",
              "451                                  Volkswagen Passat   \n",
              "452  Are US Citizens Married to Immigrants Excluded...   \n",
              "\n",
              "                                            sci_digest  \\\n",
              "0    ['A mother and daughter sounded the alarm over...   \n",
              "1    ['A photograph of a car crash scene is real, b...   \n",
              "2                                                   []   \n",
              "3    ['Department of State employee Candace Claibor...   \n",
              "4    ['\"We\\'re number one\" isn\\'t always a point of...   \n",
              "..                                                 ...   \n",
              "448  [\"A popular joke about the wisdom of the sayin...   \n",
              "449  ['Rumors that the President-elect believes the...   \n",
              "450  ['As far as we can tell, the University of Ala...   \n",
              "451  ['High mileage Volkswagen Passat automobiles c...   \n",
              "452  ['The answer, in part, depends on how couples ...   \n",
              "\n",
              "                                         justification  \\\n",
              "0    In late summer 2019, multiple news accounts re...   \n",
              "1    An alarming photograph of a car after it was i...   \n",
              "2    At several points in his State of the Union Ad...   \n",
              "3    In mid-April 2017, multiple online sources rep...   \n",
              "4    In April 2021, users of the online forum Reddi...   \n",
              "..                                                 ...   \n",
              "448  A popular meme circulating since 2011 via the ...   \n",
              "449  In December 2016, rumors flew about Donald Tru...   \n",
              "450  An image supposedly showing a meme that was po...   \n",
              "451  Claim:  The U.S. government prohibits high mil...   \n",
              "452  Snopes is still fighting an infodemic of rumor...   \n",
              "\n",
              "                              issues    label  \\\n",
              "0                           ['loss']  Neutral   \n",
              "1                          ['share']    False   \n",
              "2    ['National', 'Economy', 'Jobs']     True   \n",
              "3                         ['profit']  Neutral   \n",
              "4                        ['economy']  Neutral   \n",
              "..                               ...      ...   \n",
              "448                       ['credit']    False   \n",
              "449                        ['taxes']    False   \n",
              "450                    ['insurance']    False   \n",
              "451                      ['economy']    False   \n",
              "452                      ['economy']  Neutral   \n",
              "\n",
              "                                              evidence  \\\n",
              "0    On Aug. 1, the website Distractify published a...   \n",
              "1    An alarming photograph of a car after it was i...   \n",
              "2    At several points in his State of the Union Ad...   \n",
              "3    In mid-April 2017, multiple online sources rep...   \n",
              "4    The meme was posted to the \"/facepalm\" sub-red...   \n",
              "..                                                 ...   \n",
              "448  But while the observation has much of the cade...   \n",
              "449  In December 2016, rumors flew about Donald Tru...   \n",
              "450  This image was not shared to Biden's Facebook ...   \n",
              "451  https://www.volkswagen.co.uk/#/new/passat-esta...   \n",
              "452  Snopes is still fighting an infodemic of rumor...   \n",
              "\n",
              "                                                  pred  \n",
              "0                                  The claim is False.  \n",
              "1    The claim is False. The justification does not...  \n",
              "2    The claim is True. The justification provides ...  \n",
              "3                                                False  \n",
              "4          The claim is true. The United States is the  \n",
              "..                                                 ...  \n",
              "448                                              False  \n",
              "449  The claim is False. The justification provides...  \n",
              "450        The claim is False. The image does not show  \n",
              "451                                                     \n",
              "452                                The claim is False.  \n",
              "\n",
              "[453 rows x 7 columns]"
            ]
          },
          "execution_count": 20,
          "metadata": {},
          "output_type": "execute_result"
        }
      ],
      "source": [
        "val_df\n"
      ]
    },
    {
      "cell_type": "code",
      "execution_count": null,
      "id": "ac92a3b6-88b9-47ed-bc00-f943b09e3be2",
      "metadata": {
        "id": "ac92a3b6-88b9-47ed-bc00-f943b09e3be2",
        "outputId": "c2548131-fe3d-495a-f0fe-5696dbbce6a0"
      },
      "outputs": [
        {
          "data": {
            "text/html": [
              "<div>\n",
              "<style scoped>\n",
              "    .dataframe tbody tr th:only-of-type {\n",
              "        vertical-align: middle;\n",
              "    }\n",
              "\n",
              "    .dataframe tbody tr th {\n",
              "        vertical-align: top;\n",
              "    }\n",
              "\n",
              "    .dataframe thead th {\n",
              "        text-align: right;\n",
              "    }\n",
              "</style>\n",
              "<table border=\"1\" class=\"dataframe\">\n",
              "  <thead>\n",
              "    <tr style=\"text-align: right;\">\n",
              "      <th></th>\n",
              "      <th>claim</th>\n",
              "      <th>sci_digest</th>\n",
              "      <th>justification</th>\n",
              "      <th>issues</th>\n",
              "      <th>label</th>\n",
              "      <th>evidence</th>\n",
              "      <th>pred</th>\n",
              "    </tr>\n",
              "  </thead>\n",
              "  <tbody>\n",
              "    <tr>\n",
              "      <th>0</th>\n",
              "      <td>Did Tampered-With Conditioner Cause a Wisconsi...</td>\n",
              "      <td>['A mother and daughter sounded the alarm over...</td>\n",
              "      <td>In late summer 2019, multiple news accounts re...</td>\n",
              "      <td>['loss']</td>\n",
              "      <td>Neutral</td>\n",
              "      <td>On Aug. 1, the website Distractify published a...</td>\n",
              "      <td>False</td>\n",
              "    </tr>\n",
              "    <tr>\n",
              "      <th>1</th>\n",
              "      <td>Was a Texting Driver Found Still Clutching a P...</td>\n",
              "      <td>['A photograph of a car crash scene is real, b...</td>\n",
              "      <td>An alarming photograph of a car after it was i...</td>\n",
              "      <td>['share']</td>\n",
              "      <td>False</td>\n",
              "      <td>An alarming photograph of a car after it was i...</td>\n",
              "      <td>False</td>\n",
              "    </tr>\n",
              "    <tr>\n",
              "      <th>2</th>\n",
              "      <td>After shedding jobs for more than 10 years, ou...</td>\n",
              "      <td>[]</td>\n",
              "      <td>At several points in his State of the Union Ad...</td>\n",
              "      <td>['National', 'Economy', 'Jobs']</td>\n",
              "      <td>True</td>\n",
              "      <td>At several points in his State of the Union Ad...</td>\n",
              "      <td>True</td>\n",
              "    </tr>\n",
              "    <tr>\n",
              "      <th>3</th>\n",
              "      <td>State Dept. Employee Candace Claiborne Arreste...</td>\n",
              "      <td>['Department of State employee Candace Claibor...</td>\n",
              "      <td>In mid-April 2017, multiple online sources rep...</td>\n",
              "      <td>['profit']</td>\n",
              "      <td>Neutral</td>\n",
              "      <td>In mid-April 2017, multiple online sources rep...</td>\n",
              "      <td>False</td>\n",
              "    </tr>\n",
              "    <tr>\n",
              "      <th>4</th>\n",
              "      <td>Does US Rank No. 1 in Incarceration, Gas Consu...</td>\n",
              "      <td>['\"We\\'re number one\" isn\\'t always a point of...</td>\n",
              "      <td>In April 2021, users of the online forum Reddi...</td>\n",
              "      <td>['economy']</td>\n",
              "      <td>Neutral</td>\n",
              "      <td>The meme was posted to the \"/facepalm\" sub-red...</td>\n",
              "      <td>True</td>\n",
              "    </tr>\n",
              "    <tr>\n",
              "      <th>...</th>\n",
              "      <td>...</td>\n",
              "      <td>...</td>\n",
              "      <td>...</td>\n",
              "      <td>...</td>\n",
              "      <td>...</td>\n",
              "      <td>...</td>\n",
              "      <td>...</td>\n",
              "    </tr>\n",
              "    <tr>\n",
              "      <th>448</th>\n",
              "      <td>Betty White on 'Grow Some Balls'</td>\n",
              "      <td>[\"A popular joke about the wisdom of the sayin...</td>\n",
              "      <td>A popular meme circulating since 2011 via the ...</td>\n",
              "      <td>['credit']</td>\n",
              "      <td>False</td>\n",
              "      <td>But while the observation has much of the cade...</td>\n",
              "      <td>False</td>\n",
              "    </tr>\n",
              "    <tr>\n",
              "      <th>449</th>\n",
              "      <td>Did Donald Trump claim that the Earth is flat?</td>\n",
              "      <td>['Rumors that the President-elect believes the...</td>\n",
              "      <td>In December 2016, rumors flew about Donald Tru...</td>\n",
              "      <td>['taxes']</td>\n",
              "      <td>False</td>\n",
              "      <td>In December 2016, rumors flew about Donald Tru...</td>\n",
              "      <td>False</td>\n",
              "    </tr>\n",
              "    <tr>\n",
              "      <th>450</th>\n",
              "      <td>Did Nick Saban Endorse Joe Biden?</td>\n",
              "      <td>['As far as we can tell, the University of Ala...</td>\n",
              "      <td>An image supposedly showing a meme that was po...</td>\n",
              "      <td>['insurance']</td>\n",
              "      <td>False</td>\n",
              "      <td>This image was not shared to Biden's Facebook ...</td>\n",
              "      <td>False</td>\n",
              "    </tr>\n",
              "    <tr>\n",
              "      <th>451</th>\n",
              "      <td>Volkswagen Passat</td>\n",
              "      <td>['High mileage Volkswagen Passat automobiles c...</td>\n",
              "      <td>Claim:  The U.S. government prohibits high mil...</td>\n",
              "      <td>['economy']</td>\n",
              "      <td>False</td>\n",
              "      <td>https://www.volkswagen.co.uk/#/new/passat-esta...</td>\n",
              "      <td>Neutral</td>\n",
              "    </tr>\n",
              "    <tr>\n",
              "      <th>452</th>\n",
              "      <td>Are US Citizens Married to Immigrants Excluded...</td>\n",
              "      <td>['The answer, in part, depends on how couples ...</td>\n",
              "      <td>Snopes is still fighting an infodemic of rumor...</td>\n",
              "      <td>['economy']</td>\n",
              "      <td>Neutral</td>\n",
              "      <td>Snopes is still fighting an infodemic of rumor...</td>\n",
              "      <td>False</td>\n",
              "    </tr>\n",
              "  </tbody>\n",
              "</table>\n",
              "<p>453 rows × 7 columns</p>\n",
              "</div>"
            ],
            "text/plain": [
              "                                                 claim  \\\n",
              "0    Did Tampered-With Conditioner Cause a Wisconsi...   \n",
              "1    Was a Texting Driver Found Still Clutching a P...   \n",
              "2    After shedding jobs for more than 10 years, ou...   \n",
              "3    State Dept. Employee Candace Claiborne Arreste...   \n",
              "4    Does US Rank No. 1 in Incarceration, Gas Consu...   \n",
              "..                                                 ...   \n",
              "448                   Betty White on 'Grow Some Balls'   \n",
              "449     Did Donald Trump claim that the Earth is flat?   \n",
              "450                  Did Nick Saban Endorse Joe Biden?   \n",
              "451                                  Volkswagen Passat   \n",
              "452  Are US Citizens Married to Immigrants Excluded...   \n",
              "\n",
              "                                            sci_digest  \\\n",
              "0    ['A mother and daughter sounded the alarm over...   \n",
              "1    ['A photograph of a car crash scene is real, b...   \n",
              "2                                                   []   \n",
              "3    ['Department of State employee Candace Claibor...   \n",
              "4    ['\"We\\'re number one\" isn\\'t always a point of...   \n",
              "..                                                 ...   \n",
              "448  [\"A popular joke about the wisdom of the sayin...   \n",
              "449  ['Rumors that the President-elect believes the...   \n",
              "450  ['As far as we can tell, the University of Ala...   \n",
              "451  ['High mileage Volkswagen Passat automobiles c...   \n",
              "452  ['The answer, in part, depends on how couples ...   \n",
              "\n",
              "                                         justification  \\\n",
              "0    In late summer 2019, multiple news accounts re...   \n",
              "1    An alarming photograph of a car after it was i...   \n",
              "2    At several points in his State of the Union Ad...   \n",
              "3    In mid-April 2017, multiple online sources rep...   \n",
              "4    In April 2021, users of the online forum Reddi...   \n",
              "..                                                 ...   \n",
              "448  A popular meme circulating since 2011 via the ...   \n",
              "449  In December 2016, rumors flew about Donald Tru...   \n",
              "450  An image supposedly showing a meme that was po...   \n",
              "451  Claim:  The U.S. government prohibits high mil...   \n",
              "452  Snopes is still fighting an infodemic of rumor...   \n",
              "\n",
              "                              issues    label  \\\n",
              "0                           ['loss']  Neutral   \n",
              "1                          ['share']    False   \n",
              "2    ['National', 'Economy', 'Jobs']     True   \n",
              "3                         ['profit']  Neutral   \n",
              "4                        ['economy']  Neutral   \n",
              "..                               ...      ...   \n",
              "448                       ['credit']    False   \n",
              "449                        ['taxes']    False   \n",
              "450                    ['insurance']    False   \n",
              "451                      ['economy']    False   \n",
              "452                      ['economy']  Neutral   \n",
              "\n",
              "                                              evidence     pred  \n",
              "0    On Aug. 1, the website Distractify published a...    False  \n",
              "1    An alarming photograph of a car after it was i...    False  \n",
              "2    At several points in his State of the Union Ad...     True  \n",
              "3    In mid-April 2017, multiple online sources rep...    False  \n",
              "4    The meme was posted to the \"/facepalm\" sub-red...     True  \n",
              "..                                                 ...      ...  \n",
              "448  But while the observation has much of the cade...    False  \n",
              "449  In December 2016, rumors flew about Donald Tru...    False  \n",
              "450  This image was not shared to Biden's Facebook ...    False  \n",
              "451  https://www.volkswagen.co.uk/#/new/passat-esta...  Neutral  \n",
              "452  Snopes is still fighting an infodemic of rumor...    False  \n",
              "\n",
              "[453 rows x 7 columns]"
            ]
          },
          "execution_count": 21,
          "metadata": {},
          "output_type": "execute_result"
        }
      ],
      "source": [
        "def standardize_truth_values(value):\n",
        "    value = str(value).lower()\n",
        "    if 'true' in value:\n",
        "        return 'True'\n",
        "    elif 'false' in value:\n",
        "        return 'False'\n",
        "    else:\n",
        "        return 'Neutral'\n",
        "val_df['pred'] = val_df['pred'].apply(standardize_truth_values)\n",
        "val_df"
      ]
    },
    {
      "cell_type": "code",
      "execution_count": null,
      "id": "a040b820-8f22-47ba-ac87-1b8e86b65c24",
      "metadata": {
        "id": "a040b820-8f22-47ba-ac87-1b8e86b65c24",
        "outputId": "20f58571-a005-4fb9-a604-f5e90a0b43a9"
      },
      "outputs": [
        {
          "data": {
            "text/plain": [
              "pred\n",
              "False      249\n",
              "True       126\n",
              "Neutral     78\n",
              "Name: count, dtype: int64"
            ]
          },
          "execution_count": 22,
          "metadata": {},
          "output_type": "execute_result"
        }
      ],
      "source": [
        "val_df['pred'].value_counts()"
      ]
    },
    {
      "cell_type": "code",
      "execution_count": null,
      "id": "2156a676-74a8-45d4-8ea4-243940b517a8",
      "metadata": {
        "id": "2156a676-74a8-45d4-8ea4-243940b517a8",
        "outputId": "53e31f43-4b71-49e2-e7cd-9cd39fc480dd"
      },
      "outputs": [
        {
          "name": "stderr",
          "output_type": "stream",
          "text": [
            "huggingface/tokenizers: The current process just got forked, after parallelism has already been used. Disabling parallelism to avoid deadlocks...\n",
            "To disable this warning, you can either:\n",
            "\t- Avoid using `tokenizers` before the fork if possible\n",
            "\t- Explicitly set the environment variable TOKENIZERS_PARALLELISM=(true | false)\n"
          ]
        },
        {
          "name": "stdout",
          "output_type": "stream",
          "text": [
            "Requirement already satisfied: seaborn in /usr/local/lib/python3.10/dist-packages (0.13.2)\n",
            "Requirement already satisfied: numpy!=1.24.0,>=1.20 in /usr/local/lib/python3.10/dist-packages (from seaborn) (1.24.1)\n",
            "Requirement already satisfied: pandas>=1.2 in /usr/local/lib/python3.10/dist-packages (from seaborn) (2.2.3)\n",
            "Requirement already satisfied: matplotlib!=3.6.1,>=3.4 in /usr/local/lib/python3.10/dist-packages (from seaborn) (3.9.2)\n",
            "Requirement already satisfied: contourpy>=1.0.1 in /usr/local/lib/python3.10/dist-packages (from matplotlib!=3.6.1,>=3.4->seaborn) (1.3.0)\n",
            "Requirement already satisfied: cycler>=0.10 in /usr/local/lib/python3.10/dist-packages (from matplotlib!=3.6.1,>=3.4->seaborn) (0.12.1)\n",
            "Requirement already satisfied: fonttools>=4.22.0 in /usr/local/lib/python3.10/dist-packages (from matplotlib!=3.6.1,>=3.4->seaborn) (4.54.1)\n",
            "Requirement already satisfied: kiwisolver>=1.3.1 in /usr/local/lib/python3.10/dist-packages (from matplotlib!=3.6.1,>=3.4->seaborn) (1.4.7)\n",
            "Requirement already satisfied: packaging>=20.0 in /usr/local/lib/python3.10/dist-packages (from matplotlib!=3.6.1,>=3.4->seaborn) (23.2)\n",
            "Requirement already satisfied: pillow>=8 in /usr/local/lib/python3.10/dist-packages (from matplotlib!=3.6.1,>=3.4->seaborn) (9.3.0)\n",
            "Requirement already satisfied: pyparsing>=2.3.1 in /usr/lib/python3/dist-packages (from matplotlib!=3.6.1,>=3.4->seaborn) (2.4.7)\n",
            "Requirement already satisfied: python-dateutil>=2.7 in /usr/local/lib/python3.10/dist-packages (from matplotlib!=3.6.1,>=3.4->seaborn) (2.8.2)\n",
            "Requirement already satisfied: pytz>=2020.1 in /usr/local/lib/python3.10/dist-packages (from pandas>=1.2->seaborn) (2024.2)\n",
            "Requirement already satisfied: tzdata>=2022.7 in /usr/local/lib/python3.10/dist-packages (from pandas>=1.2->seaborn) (2024.2)\n",
            "Requirement already satisfied: six>=1.5 in /usr/lib/python3/dist-packages (from python-dateutil>=2.7->matplotlib!=3.6.1,>=3.4->seaborn) (1.16.0)\n",
            "\u001b[33mWARNING: Running pip as the 'root' user can result in broken permissions and conflicting behaviour with the system package manager. It is recommended to use a virtual environment instead: https://pip.pypa.io/warnings/venv\u001b[0m\u001b[33m\n",
            "\u001b[0m\n",
            "\u001b[1m[\u001b[0m\u001b[34;49mnotice\u001b[0m\u001b[1;39;49m]\u001b[0m\u001b[39;49m A new release of pip is available: \u001b[0m\u001b[31;49m23.3.1\u001b[0m\u001b[39;49m -> \u001b[0m\u001b[32;49m24.3.1\u001b[0m\n",
            "\u001b[1m[\u001b[0m\u001b[34;49mnotice\u001b[0m\u001b[1;39;49m]\u001b[0m\u001b[39;49m To update, run: \u001b[0m\u001b[32;49mpython -m pip install --upgrade pip\u001b[0m\n"
          ]
        }
      ],
      "source": [
        "!pip install seaborn"
      ]
    },
    {
      "cell_type": "code",
      "execution_count": null,
      "id": "6f6c19be-33c3-4680-b3e6-2295d9f82dac",
      "metadata": {
        "id": "6f6c19be-33c3-4680-b3e6-2295d9f82dac",
        "outputId": "0cd1297a-8d8b-44b6-ebdc-cbec1b68115d"
      },
      "outputs": [
        {
          "name": "stderr",
          "output_type": "stream",
          "text": [
            "huggingface/tokenizers: The current process just got forked, after parallelism has already been used. Disabling parallelism to avoid deadlocks...\n",
            "To disable this warning, you can either:\n",
            "\t- Avoid using `tokenizers` before the fork if possible\n",
            "\t- Explicitly set the environment variable TOKENIZERS_PARALLELISM=(true | false)\n"
          ]
        },
        {
          "name": "stdout",
          "output_type": "stream",
          "text": [
            "Collecting scikit-learn\n",
            "  Downloading scikit_learn-1.5.2-cp310-cp310-manylinux_2_17_x86_64.manylinux2014_x86_64.whl.metadata (13 kB)\n",
            "Requirement already satisfied: numpy>=1.19.5 in /usr/local/lib/python3.10/dist-packages (from scikit-learn) (1.24.1)\n",
            "Collecting scipy>=1.6.0 (from scikit-learn)\n",
            "  Downloading scipy-1.14.1-cp310-cp310-manylinux_2_17_x86_64.manylinux2014_x86_64.whl.metadata (60 kB)\n",
            "\u001b[2K     \u001b[90m━━━━━━━━━━━━━━━━━━━━━━━━━━━━━━━━━━━━━━━━\u001b[0m \u001b[32m60.8/60.8 kB\u001b[0m \u001b[31m1.3 MB/s\u001b[0m eta \u001b[36m0:00:00\u001b[0ma \u001b[36m0:00:01\u001b[0m\n",
            "\u001b[?25hCollecting joblib>=1.2.0 (from scikit-learn)\n",
            "  Downloading joblib-1.4.2-py3-none-any.whl.metadata (5.4 kB)\n",
            "Collecting threadpoolctl>=3.1.0 (from scikit-learn)\n",
            "  Downloading threadpoolctl-3.5.0-py3-none-any.whl.metadata (13 kB)\n",
            "Downloading scikit_learn-1.5.2-cp310-cp310-manylinux_2_17_x86_64.manylinux2014_x86_64.whl (13.3 MB)\n",
            "\u001b[2K   \u001b[90m━━━━━━━━━━━━━━━━━━━━━━━━━━━━━━━━━━━━━━━━\u001b[0m \u001b[32m13.3/13.3 MB\u001b[0m \u001b[31m42.9 MB/s\u001b[0m eta \u001b[36m0:00:00\u001b[0m00:01\u001b[0m00:01\u001b[0m\n",
            "\u001b[?25hDownloading joblib-1.4.2-py3-none-any.whl (301 kB)\n",
            "\u001b[2K   \u001b[90m━━━━━━━━━━━━━━━━━━━━━━━━━━━━━━━━━━━━━━━━\u001b[0m \u001b[32m301.8/301.8 kB\u001b[0m \u001b[31m72.2 MB/s\u001b[0m eta \u001b[36m0:00:00\u001b[0m\n",
            "\u001b[?25hDownloading scipy-1.14.1-cp310-cp310-manylinux_2_17_x86_64.manylinux2014_x86_64.whl (41.2 MB)\n",
            "\u001b[2K   \u001b[90m━━━━━━━━━━━━━━━━━━━━━━━━━━━━━━━━━━━━━━━━\u001b[0m \u001b[32m41.2/41.2 MB\u001b[0m \u001b[31m48.6 MB/s\u001b[0m eta \u001b[36m0:00:00\u001b[0m00:01\u001b[0m00:01\u001b[0m\n",
            "\u001b[?25hDownloading threadpoolctl-3.5.0-py3-none-any.whl (18 kB)\n",
            "Installing collected packages: threadpoolctl, scipy, joblib, scikit-learn\n",
            "Successfully installed joblib-1.4.2 scikit-learn-1.5.2 scipy-1.14.1 threadpoolctl-3.5.0\n",
            "\u001b[33mWARNING: Running pip as the 'root' user can result in broken permissions and conflicting behaviour with the system package manager. It is recommended to use a virtual environment instead: https://pip.pypa.io/warnings/venv\u001b[0m\u001b[33m\n",
            "\u001b[0m\n",
            "\u001b[1m[\u001b[0m\u001b[34;49mnotice\u001b[0m\u001b[1;39;49m]\u001b[0m\u001b[39;49m A new release of pip is available: \u001b[0m\u001b[31;49m23.3.1\u001b[0m\u001b[39;49m -> \u001b[0m\u001b[32;49m24.3.1\u001b[0m\n",
            "\u001b[1m[\u001b[0m\u001b[34;49mnotice\u001b[0m\u001b[1;39;49m]\u001b[0m\u001b[39;49m To update, run: \u001b[0m\u001b[32;49mpython -m pip install --upgrade pip\u001b[0m\n"
          ]
        }
      ],
      "source": [
        "!pip install scikit-learn\n"
      ]
    },
    {
      "cell_type": "code",
      "execution_count": null,
      "id": "c8dd2a30-1bf5-4b9b-8371-af6af003b866",
      "metadata": {
        "id": "c8dd2a30-1bf5-4b9b-8371-af6af003b866",
        "outputId": "654a5d41-2372-456c-def9-8ca8d103b279"
      },
      "outputs": [
        {
          "data": {
            "image/png": "[encoded data removed]",
            "text/plain": [
              "<Figure size 1000x700 with 2 Axes>"
            ]
          },
          "metadata": {},
          "output_type": "display_data"
        }
      ],
      "source": [
        "import pandas as pd\n",
        "import seaborn as sns\n",
        "import matplotlib.pyplot as plt\n",
        "from sklearn.metrics import confusion_matrix\n",
        "labels = sorted(set(val_df['label']))  # Sorts labels\n",
        "cm = confusion_matrix(val_df['label'], val_df['pred'], labels=labels)\n",
        "plt.figure(figsize=(10, 7))\n",
        "sns.heatmap(cm, annot=True, fmt='d', cmap='Reds', xticklabels=labels, yticklabels=labels)\n",
        "plt.title('Confusion Matrix')\n",
        "plt.xlabel('Predicted Labels')\n",
        "plt.ylabel('True Labels')\n",
        "plt.show()"
      ]
    },
    {
      "cell_type": "code",
      "execution_count": null,
      "id": "25fac9a6-ffe7-4fe7-961b-7e25a044a554",
      "metadata": {
        "id": "25fac9a6-ffe7-4fe7-961b-7e25a044a554",
        "outputId": "b5dcf482-3f11-43db-f7be-bc34548e665a"
      },
      "outputs": [
        {
          "name": "stdout",
          "output_type": "stream",
          "text": [
            "Micro F1 Score (Overall): 0.6203090507726269\n"
          ]
        }
      ],
      "source": [
        "from sklearn.metrics import f1_score\n",
        "micro_f1 = f1_score(val_df['label'], val_df['pred'], average='micro')\n",
        "print(\"Micro F1 Score (Overall):\", micro_f1)"
      ]
    },
    {
      "cell_type": "code",
      "execution_count": null,
      "id": "d5b045ad-66bc-4a2a-9b40-61456d76707b",
      "metadata": {
        "id": "d5b045ad-66bc-4a2a-9b40-61456d76707b"
      },
      "outputs": [],
      "source": [
        "val_df.to_csv('GEMMA2-9B-FMD-R1-001-preds.csv', index=False)"
      ]
    },
    {
      "cell_type": "code",
      "execution_count": null,
      "id": "b004ee0c-49c2-4b06-93e7-0d6e0e787195",
      "metadata": {
        "id": "b004ee0c-49c2-4b06-93e7-0d6e0e787195"
      },
      "outputs": [],
      "source": []
    }
  ],
  "metadata": {
    "kernelspec": {
      "display_name": "Python 3 (ipykernel)",
      "language": "python",
      "name": "python3"
    },
    "language_info": {
      "codemirror_mode": {
        "name": "ipython",
        "version": 3
      },
      "file_extension": ".py",
      "mimetype": "text/x-python",
      "name": "python",
      "nbconvert_exporter": "python",
      "pygments_lexer": "ipython3",
      "version": "3.10.12"
    },
    "colab": {
      "provenance": []
    }
  },
  "nbformat": 4,
  "nbformat_minor": 5
}